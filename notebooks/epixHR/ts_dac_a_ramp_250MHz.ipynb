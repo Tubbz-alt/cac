{
 "cells": [
  {
   "cell_type": "code",
   "execution_count": null,
   "metadata": {},
   "outputs": [],
   "source": [
    "%%javascript\n",
    "IPython.OutputArea.prototype._should_scroll = function(lines) {\n",
    "    return false;\n",
    "}"
   ]
  },
  {
   "cell_type": "markdown",
   "metadata": {},
   "source": [
    "ePix HR Test Structure Data Analysis\n",
    "\n",
    "Mode TS 0, single ended\n",
    "Full Scale\n",
    "\n",
    "clk_i is 250MHz"
   ]
  },
  {
   "cell_type": "code",
   "execution_count": null,
   "metadata": {},
   "outputs": [],
   "source": [
    "#!/usr/bin/env python3\n",
    "# -*- coding: utf-8 -*-\n",
    "\n",
    "\"\"\"\n",
    "epixhr test structure data\n",
    "\n",
    ":Author: Faisal Abu-Nimeh (abunimeh@slac.stanford.edu)\n",
    ":License: https://confluence.slac.stanford.edu/display/ppareg/LICENSE.html\n",
    ":Date: 20180629\n",
    ":Style: OpenStack Style Guidelines https://docs.openstack.org/developer/hacking/\n",
    ":vcs_id: $Id$\n",
    "\"\"\"\n",
    "\n",
    "# %matplotlib widget\n",
    "\n",
    "\n",
    "# import h5py\n",
    "import numpy as np\n",
    "import matplotlib.cm as cm\n",
    "import matplotlib.mlab as mlab\n",
    "import matplotlib.pyplot as plt\n",
    "from scipy.stats import norm\n",
    "from scipy import stats\n",
    "import os\n",
    "import logging\n",
    "\n",
    "# logging.basicConfig(format='%(asctime)s %(levelname)s %(message)s', level=logging.DEBUG)\n",
    "logger = logging.getLogger()\n",
    "logger.setLevel(logging.DEBUG)\n",
    "\n",
    "np.set_printoptions(formatter={'int': hex})\n",
    "fig_id=0"
   ]
  },
  {
   "cell_type": "markdown",
   "metadata": {},
   "source": [
    "Constants"
   ]
  },
  {
   "cell_type": "code",
   "execution_count": null,
   "metadata": {},
   "outputs": [],
   "source": [
    "#------ uint 16 ------\n",
    "# Packet Size [31:16] \n",
    "# Packet Size [15:0]  \n",
    "# Flags [31:16]       \n",
    "# Flags [15:0]        \n",
    "# x00 & Lane Number & VC Number\n",
    "# x0000 \n",
    "# Acquisition number [15:0]\n",
    "# Acquisition number [31:16]\n",
    "# x000 & 0 & ASIC number\n",
    "# x0000\n",
    "# Sample 0\n",
    "# Sample 1\n",
    "# ...\n",
    "# Sample n (i.e. NSAMPLES)\n",
    "#------ uint 16 ------\n",
    "\n",
    "NSAMPLES = 30  # Number of ADC Samples in a packet\n",
    "HEADER_SZ = 10  # number of 16-bit words in header\n",
    "PKT_SZ = (HEADER_SZ + NSAMPLES) * 2  # Size of epixhr ts packet in bytes\n",
    "PKT_WRD = NSAMPLES + HEADER_SZ  # number of words in a single packet\n",
    "\n",
    "dac_resol = 2**16-1\n",
    "dac_mem = 1024\n",
    "fscale = 2.5 # 0 to 2.5 volt\n",
    "tiles = 5"
   ]
  },
  {
   "cell_type": "code",
   "execution_count": null,
   "metadata": {},
   "outputs": [],
   "source": [
    "def loadhrdata(fname):\n",
    "    pBIN = np.fromfile(fname, dtype=np.uint16)\n",
    "    # pBIN = np.fromfile(fname)\n",
    "    filename = os.path.basename(fname)\n",
    "    mdate = os.path.getmtime(fname)\n",
    "    logging.debug(\"uint16 file size: %d\" % (pBIN.size))\n",
    "    \n",
    "    if pBIN[0] != PKT_SZ:\n",
    "        logging.error(\"Invalid frame size, should be: 0x%x.\" % (PKT_SZ))\n",
    "\n",
    "    logging.debug(\"First word: 0x%x.\" % (pBIN[0]))\n",
    "    \n",
    "    step = (PKT_SZ+4)//2  # steps in 16-bit words, add additional byte by streamer\n",
    "    logging.debug(\"step is (0x%x) %d 16-bit words\" % (step,step))\n",
    "\n",
    "    pkt_szs = pBIN[::step]\n",
    "    findx = np.array_equal(pkt_szs, (np.full(pkt_szs.size, PKT_SZ, np.uint16)))\n",
    "    if not findx:\n",
    "        logging.error('packet sizes are not equal')\n",
    "    else:\n",
    "        logging.debug(\"Number of packets in file is %d\" % (pkt_szs.shape[0]))\n",
    "\n",
    "    if (PKT_SZ+4) * pkt_szs.shape[0] != pBIN.size*2:\n",
    "        logging.error('file contains partial frames')\n",
    "\n",
    "    # # skip headers and keep data only\n",
    "    pkt_idx = step*np.arange(pkt_szs.shape[0]) + HEADER_SZ\n",
    "    data_idx = np.arange(NSAMPLES) + pkt_idx[:, np.newaxis]\n",
    "    data = pBIN[data_idx]\n",
    "    # drop 1st 0x0 sample\n",
    "    data = data[:, 1:]\n",
    "    print(data)\n",
    "    logging.debug(\"Data shape is\" + str(data.shape))\n",
    "    return data.copy()"
   ]
  },
  {
   "cell_type": "markdown",
   "metadata": {},
   "source": [
    "Load data file"
   ]
  },
  {
   "cell_type": "code",
   "execution_count": null,
   "metadata": {},
   "outputs": [],
   "source": [
    "# load dat file\n",
    "data_ramp_250 = loadhrdata('datadump/20180910_172923.dat')\n",
    "data_ramp_250_slvds = loadhrdata('datadump/20180910_171620.dat')"
   ]
  },
  {
   "cell_type": "code",
   "execution_count": null,
   "metadata": {
    "scrolled": true
   },
   "outputs": [],
   "source": [
    "fig_id+=1\n",
    "sample_id = 20  #  sample of interest\n",
    "plt.figure(fig_id,figsize=(8,6),dpi=150)\n",
    "# plt.legend(frameon=False)\n",
    "plt.xlabel('Samples (Bins)')\n",
    "plt.ylabel('Amplitude (ADU)')\n",
    "plt.title('ePix HR Test Structure')\n",
    "plt.plot(data_ramp_250[:,sample_id])\n",
    "plt.plot(data_ramp_250_slvds[:,sample_id])\n",
    "\n",
    "\n",
    "plt.show()"
   ]
  },
  {
   "cell_type": "code",
   "execution_count": null,
   "metadata": {},
   "outputs": [],
   "source": [
    "fig_id+=1\n",
    "plt.figure(1,figsize=(8,6),dpi=150)\n",
    "d1_codes = data_ramp_250.ravel()\n",
    "d2_codes = data_ramp_250_slvds.ravel()\n",
    "\n",
    "# plt.hist(data_ramp_250.ravel(), label='slvds=false', bins='auto', histtype='step')\n",
    "# plt.hist(data_ramp_250_slvds.ravel(), label='slvds=true', bins='auto', histtype='step')\n",
    "\n",
    "plt.hist(d1_codes, label='slvds=false', bins=dac_resol, histtype='step')\n",
    "plt.hist(d2_codes, label='slvds=true', bins=dac_resol, histtype='step')\n",
    "\n",
    "plt.xlabel('ADC Output Code')\n",
    "plt.ylabel('Code Count')\n",
    "plt.title('ePix HR Histogram, 250MHz, Single-Ended, Ramp Rising')\n",
    "plt.legend(frameon=False, loc=2)\n",
    "plt.show()"
   ]
  },
  {
   "cell_type": "code",
   "execution_count": null,
   "metadata": {},
   "outputs": [],
   "source": [
    "d1_codes_vc = np.unique(d1_codes, return_counts=True)\n",
    "val, cnt = np.unique(d1_codes, return_counts=True)\n",
    "d2_codes_vc = np.unique(d2_codes, return_counts=True)\n",
    "\n",
    "print(d1_codes_vc[0])\n",
    "print(d1_codes_vc[1])\n",
    "\n",
    "print(val)\n",
    "print(cnt.max())\n",
    "\n",
    "\n",
    "d1_bins = np.asarray((d1_codes_vc[0], d1_codes_vc[1])).T\n",
    "print(d1_bins)\n",
    "dl_bins_sorted = np.sort(d1_bins, axis=0)\n",
    "print(dl_bins_sorted)\n",
    "print(dl_bins_sorted[:,0])\n",
    "print(dl_bins_sorted[:,1])"
   ]
  },
  {
   "cell_type": "code",
   "execution_count": null,
   "metadata": {},
   "outputs": [],
   "source": [
    "fig_id+=1\n",
    "plt.figure(fig_id,figsize=(8,6),dpi=150)\n",
    "plt.xlabel('ADC Output Code')\n",
    "plt.ylabel('Code Count')\n",
    "plt.title('ePix HR Histogram, 250MHz, Single-Ended, Ramp Rising')\n",
    "plt.bar(dl_bins_sorted[:,0], dl_bins_sorted[:,1])\n",
    "plt.show()\n"
   ]
  },
  {
   "cell_type": "code",
   "execution_count": null,
   "metadata": {},
   "outputs": [],
   "source": [
    "d1 = np.right_shift(data_ramp_250[:,sample_id],2)\n",
    "d2 = np.right_shift(data_ramp_250_slvds[:,sample_id],2)\n",
    "\n",
    "fig_id+=1\n",
    "sample_id = 20  #  sample of interest\n",
    "plt.figure(fig_id,figsize=(8,6),dpi=150)\n",
    "# plt.legend(frameon=False)\n",
    "plt.xlabel('Samples (Bins)')\n",
    "plt.ylabel('Amplitude (ADU)')\n",
    "plt.title('ePix HR Test Structure')\n",
    "plt.plot(d1)\n",
    "plt.plot(d2)\n",
    "\n",
    "plt.show()"
   ]
  },
  {
   "cell_type": "code",
   "execution_count": null,
   "metadata": {},
   "outputs": [],
   "source": []
  },
  {
   "cell_type": "code",
   "execution_count": null,
   "metadata": {},
   "outputs": [],
   "source": [
    "fig_id+=1\n",
    "plt.figure(1,figsize=(8,6),dpi=150)\n",
    "plt.hist(d1.ravel(), label='slvds=false', bins=2**14, histtype='step')\n",
    "plt.hist(d2.ravel(), label='slvds=true', bins=2**14, histtype='step')\n",
    "plt.xlabel('ADC Output Code')\n",
    "plt.ylabel('Code Count')\n",
    "plt.title('ePix HR Histogram, 250MHz, Single-Ended, Ramp Rising, 14-bit MSB')\n",
    "plt.legend(frameon=False, loc=2)\n",
    "plt.show()"
   ]
  },
  {
   "cell_type": "code",
   "execution_count": null,
   "metadata": {},
   "outputs": [],
   "source": [
    "val, cnt = np.unique(data_ramp_250.ravel(), return_counts=True)\n",
    "print(cnt.max())\n",
    "print(cnt.shape)\n",
    "print(val.shape)\n",
    "\n",
    "val, cnt = np.unique(data_ramp_250_slvds.ravel(), return_counts=True)\n",
    "print(cnt.max())"
   ]
  },
  {
   "cell_type": "code",
   "execution_count": null,
   "metadata": {},
   "outputs": [],
   "source": []
  }
 ],
 "metadata": {
  "kernelspec": {
   "display_name": "Python 3",
   "language": "python",
   "name": "python3"
  },
  "language_info": {
   "codemirror_mode": {
    "name": "ipython",
    "version": 3
   },
   "file_extension": ".py",
   "mimetype": "text/x-python",
   "name": "python",
   "nbconvert_exporter": "python",
   "pygments_lexer": "ipython3",
   "version": "3.7.0"
  },
  "varInspector": {
   "cols": {
    "lenName": 16,
    "lenType": 16,
    "lenVar": 40
   },
   "kernels_config": {
    "python": {
     "delete_cmd_postfix": "",
     "delete_cmd_prefix": "del ",
     "library": "var_list.py",
     "varRefreshCmd": "print(var_dic_list())"
    },
    "r": {
     "delete_cmd_postfix": ") ",
     "delete_cmd_prefix": "rm(",
     "library": "var_list.r",
     "varRefreshCmd": "cat(var_dic_list()) "
    }
   },
   "types_to_exclude": [
    "module",
    "function",
    "builtin_function_or_method",
    "instance",
    "_Feature"
   ],
   "window_display": false
  }
 },
 "nbformat": 4,
 "nbformat_minor": 2
}
