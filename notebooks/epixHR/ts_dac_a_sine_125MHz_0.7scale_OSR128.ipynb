{
 "cells": [
  {
   "cell_type": "code",
   "execution_count": null,
   "metadata": {},
   "outputs": [],
   "source": [
    "%%javascript\n",
    "IPython.OutputArea.prototype._should_scroll = function(lines) {\n",
    "    return false;\n",
    "}"
   ]
  },
  {
   "cell_type": "markdown",
   "metadata": {},
   "source": [
    "ePix HR Test Structure Data Analysis\n",
    "\n",
    "Mode TS 0, single ended\n",
    "Scale is from 0.350 V to 2.090V\n",
    "\n",
    "clk_i is 125MHz"
   ]
  },
  {
   "cell_type": "code",
   "execution_count": null,
   "metadata": {},
   "outputs": [],
   "source": [
    "#!/usr/bin/env python3\n",
    "# -*- coding: utf-8 -*-\n",
    "\n",
    "\"\"\"\n",
    "epixhr test structure data\n",
    "\n",
    ":Author: Faisal Abu-Nimeh (abunimeh@slac.stanford.edu)\n",
    ":License: https://confluence.slac.stanford.edu/display/ppareg/LICENSE.html\n",
    ":Date: 20180629\n",
    ":Style: OpenStack Style Guidelines https://docs.openstack.org/developer/hacking/\n",
    ":vcs_id: $Id$\n",
    "\"\"\"\n",
    "\n",
    "# %matplotlib widget\n",
    "\n",
    "\n",
    "# import h5py\n",
    "import numpy as np\n",
    "import matplotlib.cm as cm\n",
    "import matplotlib.mlab as mlab\n",
    "import matplotlib.pyplot as plt\n",
    "from scipy.stats import norm\n",
    "from scipy import stats\n",
    "import os\n",
    "import logging\n",
    "\n",
    "# logging.basicConfig(format='%(asctime)s %(levelname)s %(message)s', level=logging.DEBUG)\n",
    "logger = logging.getLogger()\n",
    "logger.setLevel(logging.DEBUG)\n",
    "\n",
    "np.set_printoptions(formatter={'int': hex})\n",
    "fig_id=0"
   ]
  },
  {
   "cell_type": "markdown",
   "metadata": {},
   "source": [
    "Constants"
   ]
  },
  {
   "cell_type": "code",
   "execution_count": null,
   "metadata": {},
   "outputs": [],
   "source": [
    "#------ uint 16 ------\n",
    "# Packet Size [31:16] \n",
    "# Packet Size [15:0]  \n",
    "# Flags [31:16]       \n",
    "# Flags [15:0]        \n",
    "# x00 & Lane Number & VC Number\n",
    "# x0000 \n",
    "# Acquisition number [15:0]\n",
    "# Acquisition number [31:16]\n",
    "# x000 & 0 & ASIC number\n",
    "# x0000\n",
    "# Sample 0\n",
    "# Sample 1\n",
    "# ...\n",
    "# Sample n (i.e. NSAMPLES)\n",
    "#------ uint 16 ------\n",
    "\n",
    "NSAMPLES = 30  # Number of ADC Samples in a packet\n",
    "HEADER_SZ = 10  # number of 16-bit words in header\n",
    "PKT_SZ = (HEADER_SZ + NSAMPLES) * 2  # Size of epixhr ts packet in bytes\n",
    "PKT_WRD = NSAMPLES + HEADER_SZ  # number of words in a single packet"
   ]
  },
  {
   "cell_type": "markdown",
   "metadata": {},
   "source": [
    "Load data file"
   ]
  },
  {
   "cell_type": "code",
   "execution_count": null,
   "metadata": {},
   "outputs": [],
   "source": [
    "# load dat file\n",
    "fname = 'datadump/20180910_102642.dat'  # try 1\n",
    "fname = 'datadump/20180910_161935.dat'  # try 2\n",
    "\n",
    "\n",
    "pBIN = np.fromfile(fname, dtype=np.uint16)\n",
    "# pBIN = np.fromfile(fname)\n",
    "filename = os.path.basename(fname)\n",
    "mdate = os.path.getmtime(fname)\n",
    "logging.debug(\"uint16 file size: %d\" % (pBIN.size))"
   ]
  },
  {
   "cell_type": "markdown",
   "metadata": {},
   "source": [
    "check header frame size"
   ]
  },
  {
   "cell_type": "code",
   "execution_count": null,
   "metadata": {},
   "outputs": [],
   "source": [
    "if pBIN[0] != PKT_SZ:\n",
    "    logging.error(\"Invalid frame size, should be: 0x%x.\" % (PKT_SZ))\n",
    "    \n",
    "logging.debug(\"First word: 0x%x.\" % (pBIN[0]))"
   ]
  },
  {
   "cell_type": "markdown",
   "metadata": {},
   "source": [
    "check all frame sizes in file"
   ]
  },
  {
   "cell_type": "code",
   "execution_count": null,
   "metadata": {},
   "outputs": [],
   "source": [
    "step = (PKT_SZ+4)//2  # steps in 16-bit words, add additional byte by streamer\n",
    "logging.debug(\"step is (0x%x) %d 16-bit words\" % (step,step))\n",
    "\n",
    "pkt_szs = pBIN[::step]\n",
    "findx = np.array_equal(pkt_szs, (np.full(pkt_szs.size, PKT_SZ, np.uint16)))\n",
    "if not findx:\n",
    "    logging.error('packet sizes are not equal')\n",
    "else:\n",
    "    logging.debug(\"Number of packets in file is %d\" % (pkt_szs.shape[0]))\n",
    "    \n",
    "if (PKT_SZ+4) * pkt_szs.shape[0] != pBIN.size*2:\n",
    "    logging.error('file contains partial frames')\n",
    "\n",
    "# # skip headers and keep data only\n",
    "pkt_idx = step*np.arange(pkt_szs.shape[0]) + HEADER_SZ\n",
    "data_idx = np.arange(NSAMPLES) + pkt_idx[:, np.newaxis]\n",
    "data = pBIN[data_idx]\n",
    "# drop 1st 0x0 sample\n",
    "data = data[:, 1:]\n",
    "print(data)\n",
    "logging.debug(\"Data shape is\" + str(data.shape))"
   ]
  },
  {
   "cell_type": "code",
   "execution_count": null,
   "metadata": {
    "scrolled": true
   },
   "outputs": [],
   "source": [
    "fig_id+=1\n",
    "plt.figure(fig_id,figsize=(8,6),dpi=150)\n",
    "# plt.legend(frameon=False)\n",
    "plt.xlabel('Frames [0 to %d]' % (NSAMPLES-1))\n",
    "plt.ylabel('Amplitude (ADU)')\n",
    "plt.title('ePix HR Test Structure Samples, Each curve is a different packet (sample)')\n",
    "# plt.plot(data[0,:])\n",
    "# plt.plot(data[1,:])\n",
    "# plt.plot(data[2,:])\n",
    "plt.plot(data.T)\n",
    "plt.show()"
   ]
  },
  {
   "cell_type": "code",
   "execution_count": null,
   "metadata": {},
   "outputs": [],
   "source": [
    "fig_id+=1\n",
    "plt.figure(fig_id,figsize=(8,6),dpi=150)\n",
    "# plt.legend(frameon=False)\n",
    "plt.xlabel('Frames [0 to %d]' % (NSAMPLES-1))\n",
    "plt.ylabel('Amplitude (ADU)')\n",
    "plt.title('ePix HR Test Structure Samples, Even Samples')\n",
    "plt.plot(data.T[0::2, :])\n",
    "plt.show()"
   ]
  },
  {
   "cell_type": "code",
   "execution_count": null,
   "metadata": {},
   "outputs": [],
   "source": [
    "fig_id+=1\n",
    "plt.figure(fig_id,figsize=(8,6),dpi=150)\n",
    "# plt.legend(frameon=False)\n",
    "plt.xlabel('Frames [0 to %d]' % (NSAMPLES-1))\n",
    "plt.ylabel('Amplitude (ADU)')\n",
    "plt.title('ePix HR Test Structure Samples, Odd Samples')\n",
    "plt.plot(data.T[1::2, :])\n",
    "plt.show()"
   ]
  },
  {
   "cell_type": "code",
   "execution_count": null,
   "metadata": {},
   "outputs": [],
   "source": [
    "sample_id = 20  #  sample of interest\n",
    "fig_id+=1\n",
    "plt.figure(fig_id,figsize=(8,6),dpi=150)\n",
    "# plt.legend(frameon=False)\n",
    "plt.xlabel('Samples [0 to %d]' % (data.shape[0]-1))\n",
    "plt.ylabel('Amplitude (ADU)')\n",
    "plt.title('ePix HR Test Structure Samples for sample_id=%d' % (sample_id))\n",
    "# plt.plot(data[0,:])\n",
    "# plt.plot(data[1,:])\n",
    "# plt.plot(data[2,:])\n",
    "plt.plot(data[:,sample_id])\n",
    "\n",
    "plt.show()"
   ]
  },
  {
   "cell_type": "code",
   "execution_count": null,
   "metadata": {
    "scrolled": true
   },
   "outputs": [],
   "source": [
    "fig_id+=1\n",
    "plt.figure(fig_id,figsize=(8,6),dpi=150)\n",
    "# plt.legend(frameon=False)\n",
    "plt.xlabel('Samples [0 to %d]' % (data.shape[0]-1))\n",
    "plt.ylabel('Amplitude (ADU)')\n",
    "plt.title('ePix HR Test Structure OSR128 0.7 Sine Output - SE In')\n",
    "# plt.plot(data[0,:])\n",
    "# plt.plot(data[1,:])\n",
    "# plt.plot(data[2,:])\n",
    "#plt.plot(data[:,1::2])\n",
    "plt.plot(data)\n",
    "\n",
    "# dac_resol = 2**16-1\n",
    "# dac_mem = 1024\n",
    "# angle = 2*np.pi*np.linspace(0, 1, dac_mem)\n",
    "# sine = -0.7*dac_resol/2*np.sin(angle)+dac_resol/2\n",
    "\n",
    "# plt.plot(np.tile(sine,10),'r')\n",
    "\n",
    "\n",
    "plt.show()"
   ]
  },
  {
   "cell_type": "code",
   "execution_count": null,
   "metadata": {
    "scrolled": true
   },
   "outputs": [],
   "source": [
    "fig_id+=1\n",
    "plt.figure(fig_id,figsize=(8,6),dpi=150)\n",
    "dac_resol = 2**16-1\n",
    "dac_mem = 1024\n",
    "fscale = 2.5 # 0 to 2.5 volt\n",
    "tiles = 5\n",
    "\n",
    "angle = 2*np.pi*np.linspace(0, 1, dac_mem)\n",
    "offset = dac_resol/2\n",
    "amp = -1*dac_resol/2\n",
    "sine1 = amp*np.sin(angle)+offset\n",
    "sine2 = 0.8*amp*np.sin(angle)+offset\n",
    "\n",
    "sine1_v = sine1 * fscale/dac_resol\n",
    "sine2_v = sine2 * fscale/dac_resol\n",
    "\n",
    "plt.plot(np.tile(sine1_v,tiles))\n",
    "plt.plot(np.tile(sine2_v,tiles))\n",
    "# draw common voltage at fs/2\n",
    "plt.plot(np.arange(tiles*dac_mem),np.tile(fscale/2,tiles*dac_mem))\n",
    "\n",
    "plt.xlabel('Sample (Bin)')\n",
    "plt.ylabel('Amplitude (V)')\n",
    "plt.title('ePix HR Input Sine')\n",
    "\n",
    "plt.show()"
   ]
  },
  {
   "cell_type": "code",
   "execution_count": null,
   "metadata": {},
   "outputs": [],
   "source": []
  }
 ],
 "metadata": {
  "kernelspec": {
   "display_name": "Python 3",
   "language": "python",
   "name": "python3"
  },
  "language_info": {
   "codemirror_mode": {
    "name": "ipython",
    "version": 3
   },
   "file_extension": ".py",
   "mimetype": "text/x-python",
   "name": "python",
   "nbconvert_exporter": "python",
   "pygments_lexer": "ipython3",
   "version": "3.7.0"
  },
  "varInspector": {
   "cols": {
    "lenName": 16,
    "lenType": 16,
    "lenVar": 40
   },
   "kernels_config": {
    "python": {
     "delete_cmd_postfix": "",
     "delete_cmd_prefix": "del ",
     "library": "var_list.py",
     "varRefreshCmd": "print(var_dic_list())"
    },
    "r": {
     "delete_cmd_postfix": ") ",
     "delete_cmd_prefix": "rm(",
     "library": "var_list.r",
     "varRefreshCmd": "cat(var_dic_list()) "
    }
   },
   "types_to_exclude": [
    "module",
    "function",
    "builtin_function_or_method",
    "instance",
    "_Feature"
   ],
   "window_display": false
  }
 },
 "nbformat": 4,
 "nbformat_minor": 2
}
