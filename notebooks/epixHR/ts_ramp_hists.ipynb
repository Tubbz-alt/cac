{
 "cells": [
  {
   "cell_type": "code",
   "execution_count": null,
   "metadata": {},
   "outputs": [],
   "source": [
    "%%javascript\n",
    "IPython.OutputArea.prototype._should_scroll = function(lines) {\n",
    "    return false;\n",
    "}"
   ]
  },
  {
   "cell_type": "markdown",
   "metadata": {},
   "source": [
    "ePix HR Test Structure Data Analysis\n",
    "\n",
    "Mode TS 0"
   ]
  },
  {
   "cell_type": "code",
   "execution_count": null,
   "metadata": {},
   "outputs": [],
   "source": [
    "#!/usr/bin/env python3\n",
    "# -*- coding: utf-8 -*-\n",
    "\n",
    "\"\"\"\n",
    "epixhr test structure data\n",
    "\n",
    ":Author: Faisal Abu-Nimeh (abunimeh@slac.stanford.edu)\n",
    ":License: https://confluence.slac.stanford.edu/display/ppareg/LICENSE.html\n",
    ":Date: 20180629\n",
    ":Style: OpenStack Style Guidelines https://docs.openstack.org/developer/hacking/\n",
    ":vcs_id: $Id$\n",
    "\"\"\"\n",
    "\n",
    "# %matplotlib widget\n",
    "\n",
    "\n",
    "# import h5py\n",
    "import numpy as np\n",
    "import matplotlib.cm as cm\n",
    "import matplotlib.mlab as mlab\n",
    "import matplotlib.pyplot as plt\n",
    "from scipy.stats import norm\n",
    "from scipy import stats\n",
    "import os\n",
    "import logging\n",
    "\n",
    "# logging.basicConfig(format='%(asctime)s %(levelname)s %(message)s', level=logging.DEBUG)\n",
    "logger = logging.getLogger()\n",
    "logger.setLevel(logging.DEBUG)\n",
    "\n",
    "np.set_printoptions(formatter={'int': hex})\n",
    "fig_id=0"
   ]
  },
  {
   "cell_type": "markdown",
   "metadata": {},
   "source": [
    "Constants"
   ]
  },
  {
   "cell_type": "code",
   "execution_count": null,
   "metadata": {},
   "outputs": [],
   "source": [
    "#------ uint 16 ------\n",
    "# Packet Size [31:16] \n",
    "# Packet Size [15:0]  \n",
    "# Flags [31:16]       \n",
    "# Flags [15:0]        \n",
    "# x00 & Lane Number & VC Number\n",
    "# x0000 \n",
    "# Acquisition number [15:0]\n",
    "# Acquisition number [31:16]\n",
    "# x000 & 0 & ASIC number\n",
    "# x0000\n",
    "# Sample 0\n",
    "# Sample 1\n",
    "# ...\n",
    "# Sample n (i.e. NSAMPLES)\n",
    "#------ uint 16 ------\n",
    "\n",
    "NSAMPLES = 30  # Number of ADC Samples in a packet\n",
    "HEADER_SZ = 10  # number of 16-bit words in header\n",
    "PKT_SZ = (HEADER_SZ + NSAMPLES) * 2  # Size of epixhr ts packet in bytes\n",
    "PKT_WRD = NSAMPLES + HEADER_SZ  # number of words in a single packet\n",
    "\n",
    "dac_resol = 2**16-1\n",
    "dac_mem = 1024\n",
    "fscale = 2.5 # 0 to 2.5 volt\n",
    "tiles = 5"
   ]
  },
  {
   "cell_type": "code",
   "execution_count": null,
   "metadata": {},
   "outputs": [],
   "source": [
    "def loadhrdata(fname):\n",
    "    pBIN = np.fromfile(fname, dtype=np.uint16)\n",
    "    # pBIN = np.fromfile(fname)\n",
    "    filename = os.path.basename(fname)\n",
    "    mdate = os.path.getmtime(fname)\n",
    "    logging.debug(\"uint16 file size: %d\" % (pBIN.size))\n",
    "    \n",
    "    if pBIN[0] != PKT_SZ:\n",
    "        logging.error(\"Invalid frame size, should be: 0x%x.\" % (PKT_SZ))\n",
    "\n",
    "    logging.debug(\"First word: 0x%x.\" % (pBIN[0]))\n",
    "    \n",
    "    step = (PKT_SZ+4)//2  # steps in 16-bit words, add additional byte by streamer\n",
    "    logging.debug(\"step is (0x%x) %d 16-bit words\" % (step,step))\n",
    "\n",
    "    pkt_szs = pBIN[::step]\n",
    "    findx = np.array_equal(pkt_szs, (np.full(pkt_szs.size, PKT_SZ, np.uint16)))\n",
    "    if not findx:\n",
    "        logging.error('packet sizes are not equal')\n",
    "    else:\n",
    "        logging.debug(\"Number of packets in file is %d\" % (pkt_szs.shape[0]))\n",
    "\n",
    "    if (PKT_SZ+4) * pkt_szs.shape[0] != pBIN.size*2:\n",
    "        logging.error('file contains partial frames')\n",
    "\n",
    "    # # skip headers and keep data only\n",
    "    pkt_idx = step*np.arange(pkt_szs.shape[0]) + HEADER_SZ\n",
    "    data_idx = np.arange(NSAMPLES) + pkt_idx[:, np.newaxis]\n",
    "    data = pBIN[data_idx]\n",
    "    # drop 1st 0x0 sample\n",
    "    data = data[:, 1:]\n",
    "    print(data)\n",
    "    logging.debug(\"Data shape is\" + str(data.shape))\n",
    "    return data.copy()"
   ]
  },
  {
   "cell_type": "markdown",
   "metadata": {},
   "source": [
    "Load data file"
   ]
  },
  {
   "cell_type": "code",
   "execution_count": null,
   "metadata": {},
   "outputs": [],
   "source": [
    "# load dat file\n",
    "\n",
    "data_ts_dac_b_ramp_125MHz = loadhrdata('datadump/20180910_122526.dat')  # ts_dac_b_ramp_125MHz_0.7scale_OSR128\n",
    "data_ts_dac_b_rampf_125MHz = loadhrdata('datadump/20180910_125104.dat') # ts_dac_b_rampf_125MHz_0.7scale_OSR128\n",
    "# data_ts_dac_a_ramp_125MHz = loadhrdata('datadump/20180910_105827.dat') # ts_dac_a_ramp_125MHz_0.7scale_OSR128\n",
    "data_ts_dac_a_ramp_125MHz = loadhrdata('datadump/20180911_134517.dat') # ts_dac_a_ramp_125MHz_0.7scale_OSR128\n",
    "# data_ts_dac_a_rampf_125MHz = loadhrdata('datadump/20180910_111954.dat') # ts_dac_a_rampf_125MHz_0.7scale_OSR128\n",
    "data_ts_dac_a_rampf_125MHz = loadhrdata('datadump/20180911_140549.dat') # ts_dac_a_rampf_125MHz_0.7scale_OSR128\n"
   ]
  },
  {
   "cell_type": "code",
   "execution_count": null,
   "metadata": {
    "scrolled": true
   },
   "outputs": [],
   "source": [
    "# equalize ramps -- manually ... yeah\n",
    "print(data_ts_dac_b_rampf_125MHz.shape)\n",
    "print(data_ts_dac_a_rampf_125MHz.shape)\n",
    "\n",
    "# data_ts_dac_b_ramp_125MHz_trim = data_ts_dac_b_ramp_125MHz[380:10619,:]\n",
    "# data_ts_dac_a_ramp_125MHz_trim = data_ts_dac_a_ramp_125MHz[880:11119,:]\n",
    "\n",
    "num_of_periods = 10\n",
    "ramp_b_start = 380 # align sine -- manually ... yeah\n",
    "ramp_a_start = 880 # align sine -- manually ... yeah\n",
    "data_ts_dac_b_ramp_125MHz_trim = data_ts_dac_b_ramp_125MHz[ramp_b_start:ramp_b_start+num_of_periods*dac_mem,:]\n",
    "data_ts_dac_a_ramp_125MHz_trim = data_ts_dac_a_ramp_125MHz[ramp_a_start:ramp_a_start+num_of_periods*dac_mem,:]\n",
    "\n",
    "\n",
    "fig_id+=1\n",
    "sample_id = 20  #  sample of interest\n",
    "plt.figure(fig_id,figsize=(8,6),dpi=150)\n",
    "# plt.legend(frameon=False)\n",
    "plt.xlabel('Samples (Bins)')\n",
    "plt.ylabel('Amplitude (ADU)')\n",
    "plt.title('ePix HR Test Structure Output Rising Ramp 0.7 Scale in')\n",
    "plt.plot(data_ts_dac_b_ramp_125MHz_trim, label='Diff')\n",
    "plt.plot(data_ts_dac_a_ramp_125MHz_trim, label='SE')\n",
    "# plt.legend(frameon=False, loc=2)\n",
    "plt.show()"
   ]
  },
  {
   "cell_type": "code",
   "execution_count": null,
   "metadata": {},
   "outputs": [],
   "source": [
    "# equalize ramps -- manually ... yeah\n",
    "print(data_ts_dac_b_rampf_125MHz.shape)\n",
    "print(data_ts_dac_a_rampf_125MHz.shape)\n",
    "\n",
    "data_ts_dac_b_rampf_125MHz_trim = data_ts_dac_b_rampf_125MHz[157:11420,:]\n",
    "data_ts_dac_a_rampf_125MHz_trim = data_ts_dac_a_rampf_125MHz[501:11764,:]\n",
    "\n",
    "\n",
    "fig_id+=1\n",
    "sample_id = 20  #  sample of interest\n",
    "plt.figure(fig_id,figsize=(8,6),dpi=150)\n",
    "# plt.legend(frameon=False)\n",
    "plt.xlabel('Samples (Bins)')\n",
    "plt.ylabel('Amplitude (ADU)')\n",
    "plt.title('ePix HR Test Structure Output Rising Ramp 0.7 Scale in')\n",
    "#plt.plot(data_ts_dac_b_rampf_125MHz_trim[:,sample_id], label='Diff')\n",
    "#plt.plot(data_ts_dac_a_rampf_125MHz_trim[:,sample_id], label='SE')\n",
    "# plt.plot(data_ts_dac_b_rampf_125MHz_trim, label='Diff')\n",
    "plt.plot(data_ts_dac_a_rampf_125MHz_trim, label='SE')\n",
    "# plt.legend(frameon=False, loc=2)\n",
    "plt.show()"
   ]
  },
  {
   "cell_type": "code",
   "execution_count": null,
   "metadata": {},
   "outputs": [],
   "source": [
    "# approximation of histogram\n",
    "fig_id+=1\n",
    "plt.figure(1,figsize=(8,6),dpi=150)\n",
    "d_df_codes = data_ts_dac_b_ramp_125MHz_trim.ravel()\n",
    "d_df_codes_f = data_ts_dac_b_rampf_125MHz_trim.ravel()\n",
    "\n",
    "plt.hist(d_df_codes, bins='auto', histtype='step', label='Rising Ramp')\n",
    "plt.hist(d_df_codes_f, bins='auto', histtype='step', label='Falling Ramp')\n",
    "\n",
    "# plt.hist(d_df_codes, bins=np.arange(d_df_codes.min(),d_df_codes.max()+1), label='Rising Ramp')\n",
    "# plt.hist(d_df_codes_f, bins=np.arange(d_df_codes_f.min(),d_df_codes_f.max()+1), label='Falling Ramp')\n",
    "\n",
    "\n",
    "plt.xlabel('ADC Output Code')\n",
    "plt.ylabel('Code Count')\n",
    "plt.title('ePix HR Histogram, 125MHz, Diff, OSR128')\n",
    "plt.legend(frameon=False, loc=0)\n",
    "plt.show()"
   ]
  },
  {
   "cell_type": "code",
   "execution_count": null,
   "metadata": {},
   "outputs": [],
   "source": [
    "# approximation of histogram\n",
    "fig_id+=1\n",
    "plt.figure(1,figsize=(8,6),dpi=150)\n",
    "d_se_codes = data_ts_dac_a_ramp_125MHz_trim.ravel()\n",
    "d_se_codes_f = data_ts_dac_a_rampf_125MHz_trim.ravel()\n",
    "\n",
    "plt.hist(d_se_codes, bins='auto', histtype='step', label='Rising Ramp')\n",
    "plt.hist(d_se_codes_f, bins='auto', histtype='step', label='Falling Ramp')\n",
    "\n",
    "plt.xlabel('ADC Output Code')\n",
    "plt.ylabel('Code Count')\n",
    "plt.title('ePix HR Histogram, 125MHz, Single-Ended, OSR128')\n",
    "plt.legend(frameon=False, loc=2)\n",
    "plt.show()"
   ]
  },
  {
   "cell_type": "code",
   "execution_count": null,
   "metadata": {},
   "outputs": [],
   "source": [
    "d_df_codes_vc = np.unique(d_df_codes, return_counts=True)  # val , cnt\n",
    "d_df_codes_f_vc = np.unique(d_df_codes_f, return_counts=True) # val , cnt\n",
    "d_se_codes_vc = np.unique(d_se_codes, return_counts=True) # val , cnt\n",
    "d_se_codes_f_vc = np.unique(d_se_codes_f, return_counts=True) # val , cnt\n",
    "\n",
    "d_df_bins = np.asarray((d_df_codes_vc[0], d_df_codes_vc[1])).T\n",
    "d_df_f_bins = np.asarray((d_df_codes_f_vc[0], d_df_codes_f_vc[1])).T\n",
    "\n",
    "d_se_bins = np.asarray((d_se_codes_vc[0], d_se_codes_vc[1])).T\n",
    "d_se_f_bins = np.asarray((d_se_codes_f_vc[0], d_se_codes_f_vc[1])).T"
   ]
  },
  {
   "cell_type": "code",
   "execution_count": null,
   "metadata": {},
   "outputs": [],
   "source": [
    "#d_df_bins_sorted = np.sort(d_df_bins, axis=0)\n",
    "#d_df_f_bins_sorted = np.sort(d_df_f_bins, axis=0)\n",
    "#d_se_bins_sorted = np.sort(d_se_bins, axis=0)\n",
    "#d_se_f_bins_sorted = np.sort(d_se_f_bins, axis=0)\n",
    "\n",
    "idx = np.argsort(d_df_bins[:,1])\n",
    "d_df_bins_sorted = d_df_bins[idx]\n",
    "print(np.max(d_df_bins_sorted[:,1]))\n",
    "\n",
    "idx = np.argsort(d_df_f_bins[:,1])\n",
    "d_df_f_bins_sorted = d_df_f_bins[idx]\n",
    "print(np.max(d_df_f_bins_sorted[:,1]))\n",
    "\n",
    "idx = np.argsort(d_se_bins[:,1])\n",
    "d_se_bins_sorted = d_se_bins[idx]\n",
    "print(np.max(d_se_bins_sorted[:,1]))\n",
    "\n",
    "idx = np.argsort(d_se_f_bins[:,1])\n",
    "d_se_f_bins_sorted = d_se_f_bins[idx]\n",
    "print(np.max(d_se_f_bins_sorted[:,1]))"
   ]
  },
  {
   "cell_type": "code",
   "execution_count": null,
   "metadata": {},
   "outputs": [],
   "source": [
    "fig_id+=1\n",
    "plt.figure(fig_id,figsize=(8,6),dpi=150)\n",
    "plt.xlabel('ADC Output Code')\n",
    "plt.ylabel('Code Count')\n",
    "plt.title('ePix HR Histogram, 125MHz, Diff, Ramp Rising')\n",
    "plt.bar(d_df_bins[:,0], d_df_bins[:,1])\n",
    "plt.show()"
   ]
  },
  {
   "cell_type": "code",
   "execution_count": null,
   "metadata": {},
   "outputs": [],
   "source": [
    "fig_id+=1\n",
    "plt.figure(fig_id,figsize=(8,6),dpi=150)\n",
    "plt.xlabel('ADC Output Code')\n",
    "plt.ylabel('Code Count')\n",
    "plt.title('ePix HR Histogram, 125MHz, Diff, Ramp Rising')\n",
    "plt.bar(d_df_bins_sorted[:,0], d_df_bins_sorted[:,1])\n",
    "plt.show()"
   ]
  },
  {
   "cell_type": "code",
   "execution_count": null,
   "metadata": {},
   "outputs": [],
   "source": [
    "fig_id+=1\n",
    "plt.figure(fig_id,figsize=(8,6),dpi=150)\n",
    "plt.xlabel('ADC Output Code')\n",
    "plt.ylabel('Code Count')\n",
    "plt.title('ePix HR Histogram, 125MHz, Diff, Ramp Falling')\n",
    "plt.bar(d_df_f_bins[:,0], d_df_f_bins[:,1])\n",
    "plt.show()"
   ]
  },
  {
   "cell_type": "code",
   "execution_count": null,
   "metadata": {},
   "outputs": [],
   "source": [
    "fig_id+=1\n",
    "plt.figure(fig_id,figsize=(8,6),dpi=150)\n",
    "plt.xlabel('ADC Output Code')\n",
    "plt.ylabel('Code Count')\n",
    "plt.title('ePix HR Histogram, 125MHz, SE, Ramp Rising')\n",
    "plt.bar(d_se_bins[:,0], d_se_bins[:,1])\n",
    "plt.show()"
   ]
  },
  {
   "cell_type": "code",
   "execution_count": null,
   "metadata": {},
   "outputs": [],
   "source": [
    "fig_id+=1\n",
    "plt.figure(fig_id,figsize=(8,6),dpi=150)\n",
    "plt.xlabel('ADC Output Code')\n",
    "plt.ylabel('Code Count')\n",
    "plt.title('ePix HR Histogram, 125MHz, SE, Ramp Falling')\n",
    "plt.bar(d_se_f_bins[:,0], d_se_f_bins[:,1])\n",
    "plt.show()"
   ]
  },
  {
   "cell_type": "code",
   "execution_count": null,
   "metadata": {},
   "outputs": [],
   "source": [
    "one = data_ts_dac_a_ramp_125MHz_trim[:,0]\n",
    "print(one.shape)\n",
    "\n",
    "x = np.arange(0,10240).reshape(-1, 1024)\n",
    "print(x)\n",
    "print(x[0,:])\n",
    "print(x.shape)\n",
    "\n",
    "one_s = one[x[0,:]]\n",
    "one_s = one[x].T\n",
    "print(one_s.shape)\n",
    "fig_id+=1\n",
    "sample_id = 20  #  sample of interest\n",
    "plt.figure(fig_id,figsize=(8,6),dpi=150)\n",
    "# plt.legend(frameon=False)\n",
    "plt.xlabel('Samples (Bins)')\n",
    "plt.ylabel('Amplitude (ADU)')\n",
    "plt.plot(one_s, label='SE')\n",
    "plt.show()\n"
   ]
  },
  {
   "cell_type": "code",
   "execution_count": null,
   "metadata": {},
   "outputs": [],
   "source": [
    "ramps = data_ts_dac_a_ramp_125MHz_trim\n",
    "print(ramps.shape)\n",
    "x = ramps.shape[0] / num_of_periods\n",
    "y = ramps.shape[1] * num_of_periods\n",
    "single_ramp = ramps.reshape(int(x),int(y), order='F')\n",
    "print(single_ramp.shape)\n",
    "print(single_ramp)\n",
    "\n",
    "# trim\n",
    "# remove 12 from start and 12 from end\n",
    "single_ramp = single_ramp[11:1011, :]\n",
    "print(single_ramp.shape)\n",
    "\n",
    "fig_id+=1\n",
    "plt.figure(fig_id,figsize=(8,6),dpi=150)\n",
    "\n",
    "xl = np.arange(single_ramp.shape[0])\n",
    "xlflat = np.tile(xl, single_ramp.shape[1])\n",
    "ylflat = single_ramp.T.ravel()\n",
    "slope, intercept, r_value, p_value, std_err = stats.linregress(xlflat, ylflat)\n",
    "plt.plot(single_ramp, 'k.')\n",
    "plt.plot(xl, intercept+slope*xl, '-', linewidth=2, label='linear fit: ' +r'$%5.2fx+%5.2f$' % (slope, intercept))\n",
    "plt.legend(frameon=False)\n",
    "plt.show()\n",
    "\n",
    "print('slope %.3f' % (slope))\n",
    "print('intercept %.3f' % (intercept))\n",
    "print('R2 %.3f' % (r_value**2))\n",
    "print('p %.3f' % (p_value))\n",
    "print('std_err %.3f' % (std_err))"
   ]
  },
  {
   "cell_type": "code",
   "execution_count": null,
   "metadata": {},
   "outputs": [],
   "source": [
    "# FIXME use correct axis\n",
    "# plt.figure(1,figsize=(8,6),dpi=150)\n",
    "# ADCRESOL = 16  # 16-bit ADC\n",
    "# ramp_avg = np.average(single_ramp.T, 0)\n",
    "# hcoeff = np.polyfit(xl, ramp_avg, 1)  # first order polyfit for tail\n",
    "# hfit1 = np.poly1d(hcoeff)\n",
    "# hyfit = hfit1(xl)\n",
    "# plt.plot(xl, 100 * (hyfit - ramp_avg) / (2**ADCRESOL), '.')\n",
    "# plt.title('INL')\n",
    "# plt.xlabel('ADC Code')\n",
    "# plt.ylabel('INL [% Full Scale Range]')\n",
    "# fig = plt.gcf()\n",
    "# plt.show()"
   ]
  }
 ],
 "metadata": {
  "kernelspec": {
   "display_name": "Python 3",
   "language": "python",
   "name": "python3"
  },
  "language_info": {
   "codemirror_mode": {
    "name": "ipython",
    "version": 3
   },
   "file_extension": ".py",
   "mimetype": "text/x-python",
   "name": "python",
   "nbconvert_exporter": "python",
   "pygments_lexer": "ipython3",
   "version": "3.7.0"
  },
  "varInspector": {
   "cols": {
    "lenName": 16,
    "lenType": 16,
    "lenVar": 40
   },
   "kernels_config": {
    "python": {
     "delete_cmd_postfix": "",
     "delete_cmd_prefix": "del ",
     "library": "var_list.py",
     "varRefreshCmd": "print(var_dic_list())"
    },
    "r": {
     "delete_cmd_postfix": ") ",
     "delete_cmd_prefix": "rm(",
     "library": "var_list.r",
     "varRefreshCmd": "cat(var_dic_list()) "
    }
   },
   "types_to_exclude": [
    "module",
    "function",
    "builtin_function_or_method",
    "instance",
    "_Feature"
   ],
   "window_display": false
  }
 },
 "nbformat": 4,
 "nbformat_minor": 2
}
